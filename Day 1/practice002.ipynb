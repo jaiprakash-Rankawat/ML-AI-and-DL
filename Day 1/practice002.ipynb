{
 "cells": [
  {
   "cell_type": "code",
   "execution_count": 1,
   "id": "d0dab560-7700-43ee-bca1-17cf4e3a3bb9",
   "metadata": {},
   "outputs": [
    {
     "name": "stdin",
     "output_type": "stream",
     "text": [
      "Enter Area (sq ft):  1300\n",
      "Enter Number of Bedrooms:  3\n"
     ]
    },
    {
     "name": "stdout",
     "output_type": "stream",
     "text": [
      "Predicted House Price: $231214.80\n"
     ]
    },
    {
     "name": "stderr",
     "output_type": "stream",
     "text": [
      "C:\\Users\\dellj\\AppData\\Local\\Programs\\Python\\Python312\\Lib\\site-packages\\sklearn\\utils\\validation.py:2739: UserWarning: X does not have valid feature names, but LinearRegression was fitted with feature names\n",
      "  warnings.warn(\n"
     ]
    }
   ],
   "source": [
    "import pandas as pd\n",
    "from sklearn.model_selection import train_test_split\n",
    "from sklearn.linear_model import LinearRegression\n",
    "\n",
    "# Step 1: Create a Sample Dataset\n",
    "data = {\n",
    "    'Area': [1200, 1500, 1800, 2000, 2300, 2600, 3000, 3500, 4000, 4500],\n",
    "    'Bedrooms': [2, 3, 3, 4, 4, 5, 5, 6, 6, 7],\n",
    "    'Price': [200, 250, 275, 300, 350, 400, 450, 500, 550, 600]  # Price in $1000\n",
    "}\n",
    "\n",
    "df = pd.DataFrame(data)\n",
    "\n",
    "# Step 2: Split Features (X) and Labels (y)\n",
    "X = df[['Area', 'Bedrooms']]\n",
    "y = df['Price']\n",
    "\n",
    "# Step 3: Split the Data into Training and Testing Sets\n",
    "X_train, X_test, y_train, y_test = train_test_split(X, y, test_size=0.2, random_state=42)\n",
    "\n",
    "# Step 4: Train a Linear Regression Model\n",
    "model = LinearRegression()\n",
    "model.fit(X_train, y_train)\n",
    "\n",
    "# Step 5: Predict House Price\n",
    "area = float(input(\"Enter Area (sq ft): \"))\n",
    "bedrooms = int(input(\"Enter Number of Bedrooms: \"))\n",
    "\n",
    "predicted_price = model.predict([[area, bedrooms]])\n",
    "print(f\"Predicted House Price: ${predicted_price[0] * 1000:.2f}\")\n"
   ]
  },
  {
   "cell_type": "code",
   "execution_count": null,
   "id": "e73738ee-e76c-49d3-ba65-d8e2b576f905",
   "metadata": {},
   "outputs": [],
   "source": []
  }
 ],
 "metadata": {
  "kernelspec": {
   "display_name": "Python 3 (ipykernel)",
   "language": "python",
   "name": "python3"
  },
  "language_info": {
   "codemirror_mode": {
    "name": "ipython",
    "version": 3
   },
   "file_extension": ".py",
   "mimetype": "text/x-python",
   "name": "python",
   "nbconvert_exporter": "python",
   "pygments_lexer": "ipython3",
   "version": "3.12.4"
  }
 },
 "nbformat": 4,
 "nbformat_minor": 5
}
